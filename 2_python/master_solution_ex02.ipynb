{
 "cells": [
  {
   "cell_type": "code",
   "execution_count": 1,
   "metadata": {},
   "outputs": [],
   "source": [
    "import numpy as np\n",
    "import pandas as pd\n",
    "import scipy.stats as stats\n",
    "import matplotlib\n",
    "import matplotlib.pyplot as plt\n",
    "\n",
    "matplotlib.rcParams.update({'figure.figsize': [15, 7.5], 'font.size': 30,\n",
    "                            'axes.titlesize' : 34, 'axes.labelsize' : 30,\n",
    "                            'lines.linewidth' : 5, 'lines.markersize' : 10,\n",
    "                            'xtick.labelsize' : 24, 'ytick.labelsize' : 24})"
   ]
  },
  {
   "cell_type": "code",
   "execution_count": 2,
   "metadata": {},
   "outputs": [],
   "source": [
    "def load_data_MNTest(fl=\"./src/MCTestData.csv\"):\n",
    "    \"\"\"\n",
    "    Loads data stored in McNemarTest.csv\n",
    "    :param fl: filename of csv file\n",
    "    :return: labels, prediction1, prediction2\n",
    "    \"\"\"\n",
    "    data = pd.read_csv(fl, header=None).to_numpy()\n",
    "    labels= data[:, 0]\n",
    "    prediction_1 = data[:, 1]\n",
    "    prediction_2 = data[:, 2]\n",
    "    return labels, prediction_1,prediction_2"
   ]
  },
  {
   "cell_type": "code",
   "execution_count": 3,
   "metadata": {},
   "outputs": [
    {
     "name": "stdout",
     "output_type": "stream",
     "text": [
      "H0: both models have the same performance\n",
      "H1: performances of the two models are not equal\n",
      "A:107\n",
      "B:65\n",
      "C:93\n",
      "D:235\n",
      "Error of model 1:0.3440\n",
      "Error of model 2:0.4000\n",
      "The chi2_Mc value is 4.614, greater than the default value 3.841, we reject the hypothesis H0\n"
     ]
    }
   ],
   "source": [
    "# McNemar Test\n",
    "print(\"H0: both models have the same performance\")\n",
    "print(\"H1: performances of the two models are not equal\")\n",
    "chi2_095 = stats.chi2.ppf(0.95, 1)\n",
    "labels, prediction_1,prediction_2 = load_data_MNTest()\n",
    "\n",
    "A = np.sum((prediction_1 != labels) & (prediction_2 != labels))\n",
    "B = np.sum((prediction_1 != labels) & (prediction_2 == labels))\n",
    "C = np.sum((prediction_1 == labels) & (prediction_2 != labels))\n",
    "D = np.sum((prediction_1 == labels) & (prediction_2 == labels))\n",
    "\n",
    "print(\"A:\"+str(A))\n",
    "print(\"B:\"+str(B))\n",
    "print(\"C:\"+str(C))\n",
    "print(\"D:\"+str(D))\n",
    "print(\"Error of model 1:{:.4f}\".format((A+B)/(A+B+C+D)))\n",
    "print(\"Error of model 2:{:.4f}\".format((A+C)/(A+B+C+D)))\n",
    "chi2_Mc = (abs(B-C)-1)**2/(B+C)\n",
    "if chi2_Mc > chi2_095:\n",
    "    print(\"The chi2_Mc value is {:.3f}, greater than the default value {:.3f}, we reject the hypothesis H0\".format(chi2_Mc, chi2_095))\n"
   ]
  },
  {
   "cell_type": "code",
   "execution_count": 4,
   "metadata": {},
   "outputs": [],
   "source": [
    "def load_data_TMStTest(fl=\"./src/TMStTestData.csv\"):\n",
    "    \"\"\"\n",
    "    Loads data stored in fl\n",
    "    :param fl: filename of csv file\n",
    "    :return: y1, y2\n",
    "    \"\"\"\n",
    "    data = np.loadtxt(fl, delimiter=\",\")\n",
    "    y1 = data[:, 0]\n",
    "    y2 = data[:, 1]\n",
    "    return y1, y2"
   ]
  },
  {
   "cell_type": "code",
   "execution_count": 5,
   "metadata": {},
   "outputs": [
    {
     "name": "stdout",
     "output_type": "stream",
     "text": [
      "H0: the model 1 and 2 perform equally well\n",
      "H1: performance of the two models are not equal\n",
      "t-value:-8.923519540749611\n",
      "p-value:1.4330419155090628e-17\n",
      "The p-value is 0.000000 < 0.05, thus we reject the hypothesis\n"
     ]
    }
   ],
   "source": [
    "# Two-Matched-Samples t-Test\n",
    "y1, y2 = load_data_TMStTest()\n",
    "\n",
    "print(\"H0: the model 1 and 2 perform equally well\")\n",
    "print(\"H1: performance of the two models are not equal\")\n",
    "\n",
    "diff = y1-y2\n",
    "diff_mean = np.mean(diff)\n",
    "sigma_d = np.sqrt(np.sum((diff-diff_mean)**2)/(len(diff)-1))\n",
    "\n",
    "t = np.sqrt(len(diff)) * diff_mean/sigma_d\n",
    "\n",
    "df = len(y1) + len(y2)\n",
    "p = stats.t.sf(np.abs(t), len(diff)-1)*2\n",
    "\n",
    "print(\"t-value:\"+str(t))\n",
    "print(\"p-value:\"+str(p))\n",
    "print(\"The p-value is {:4f} < 0.05, thus we reject the hypothesis\".format(p))"
   ]
  },
  {
   "cell_type": "code",
   "execution_count": 6,
   "metadata": {},
   "outputs": [],
   "source": [
    "def load_data_FTest(fl=\"./src/FTestData.csv\"):\n",
    "    \"\"\"\n",
    "    Loads data stored in fl\n",
    "    :param fl: filename of csv file\n",
    "    :return: evaluations\n",
    "    \"\"\"\n",
    "    errors = np.loadtxt(fl, delimiter=\",\")\n",
    "    return errors"
   ]
  },
  {
   "cell_type": "code",
   "execution_count": 7,
   "metadata": {},
   "outputs": [
    {
     "name": "stdout",
     "output_type": "stream",
     "text": [
      "H0: all algorithms are equivalent in their performance and hence their average ranks should be equal\n",
      "H1: the average ranks for at least one algorithm is different\n",
      "the chi2_F value is 18.1333, greater than chi2_095 value 9.4877, we reject the hypothesis H0\n"
     ]
    }
   ],
   "source": [
    "# Freidman Test\n",
    "\n",
    "print(\"H0: all algorithms are equivalent in their performance and hence their average ranks should be equal\")\n",
    "print(\"H1: the average ranks for at least one algorithm is different\")\n",
    "\n",
    "errors = load_data_FTest()\n",
    "\n",
    "FData_stats={'errors':errors}\n",
    "\n",
    "n = errors.shape[0]\n",
    "k = errors.shape[1]\n",
    "\n",
    "r = stats.mstats.rankdata(errors, axis=1)\n",
    "\n",
    "r_mean_all = np.mean(r)\n",
    "r_mean_models = np.mean(r, axis=0)\n",
    "\n",
    "ss_total = n * np.sum((r_mean_models-r_mean_all)**2)\n",
    "ss_error = np.sum((r_mean_all-r)**2)/(n*(k-1))\n",
    "\n",
    "chi2_F = ss_total/ss_error\n",
    "chi2_095 = stats.chi2.ppf(0.95, k-1)\n",
    "if chi2_F > chi2_095:\n",
    "    print(\"the chi2_F value is {:.4f}, greater than chi2_095 value {:.4f}, we reject the hypothesis H0\".\n",
    "          format(chi2_F, chi2_095))\n",
    "    \n",
    "FData_stats.update({'ranking_models':r_mean_models,\n",
    "                    'n':n,\n",
    "                    'k':k})"
   ]
  },
  {
   "cell_type": "code",
   "execution_count": 8,
   "metadata": {},
   "outputs": [
    {
     "name": "stdout",
     "output_type": "stream",
     "text": [
      "the Q matrix is as follows:\n",
      "[[ 0.          0.92376043  3.92598183  1.84752086  0.80829038]\n",
      " [ 0.          0.          3.0022214   0.92376043 -0.11547005]\n",
      " [ 0.          0.          0.         -2.07846097 -3.11769145]\n",
      " [ 0.          0.          0.          0.         -1.03923048]\n",
      " [ 0.          0.          0.          0.          0.        ]]\n"
     ]
    }
   ],
   "source": [
    "# Post-hoc Nemenyi test\n",
    "\n",
    "k = FData_stats['k']\n",
    "n = FData_stats['n']\n",
    "\n",
    "r_expand_h = np.repeat(np.expand_dims(FData_stats['ranking_models'], axis=1), k, axis=1)\n",
    "r_expand_v = np.repeat(np.expand_dims(FData_stats['ranking_models'], axis=0), k, axis=0)\n",
    "q = np.triu((r_expand_h-r_expand_v)/np.sqrt(k*(k+1)/(6*n)))\n",
    "print(\"the Q matrix is as follows:\")\n",
    "print(q)"
   ]
  },
  {
   "cell_type": "code",
   "execution_count": 9,
   "metadata": {},
   "outputs": [
    {
     "data": {
      "image/png": "[encoded data removed]",
      "text/plain": [
       "<Figure size 1080x540 with 1 Axes>"
      ]
     },
     "metadata": {
      "needs_background": "light"
     },
     "output_type": "display_data"
    }
   ],
   "source": [
    "# boxplot\n",
    "\n",
    "idx_best = np.argmin(FData_stats['ranking_models'])\n",
    "idx_worst = np.argmax(FData_stats['ranking_models'])\n",
    "\n",
    "plt.boxplot([FData_stats['errors'][:, idx_best], FData_stats['errors'][:, idx_worst]], labels=[\"Best Ranked\", \"Worst Ranked\"])\n",
    "plt.ylabel(\"Error\")\n",
    "plt.xlabel(\"Dataset\")\n",
    "plt.show()"
   ]
  }
 ],
 "metadata": {
  "kernelspec": {
   "display_name": "Python 3",
   "language": "python",
   "name": "python3"
  },
  "language_info": {
   "codemirror_mode": {
    "name": "ipython",
    "version": 3
   },
   "file_extension": ".py",
   "mimetype": "text/x-python",
   "name": "python",
   "nbconvert_exporter": "python",
   "pygments_lexer": "ipython3",
   "version": "3.7.7"
  }
 },
 "nbformat": 4,
 "nbformat_minor": 4
}
